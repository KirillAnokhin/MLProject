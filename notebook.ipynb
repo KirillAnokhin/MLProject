{
 "cells": [
  {
   "cell_type": "code",
   "execution_count": 2,
   "id": "aa533c57",
   "metadata": {},
   "outputs": [],
   "source": [
    "import numpy as np"
   ]
  },
  {
   "cell_type": "code",
   "execution_count": 10,
   "id": "ee043ad1",
   "metadata": {},
   "outputs": [],
   "source": [
    "def read_file(file_name):\n",
    "    file = open(file_name, \"r\")\n",
    "    list_string = []\n",
    "    i = 0\n",
    "    while True:\n",
    "        line = file.readline()\n",
    "        list_string.append(line)\n",
    "        if not line:\n",
    "            break\n",
    "        file.close\n",
    "    return list_string"
   ]
  },
  {
   "cell_type": "code",
   "execution_count": 19,
   "id": "2b26dd52",
   "metadata": {},
   "outputs": [
    {
     "name": "stdout",
     "output_type": "stream",
     "text": [
      "535815 0.600000 850.000000 850.000000 850.000000 85.000000 1000.000000 1000.000000 1.231127e-01 1.210173e-01 1.191870e-01 1.175847e-01 1.161751e-01 1.149408e-01 1.138341e-01 1.127341e-01 1.112603e-01 1.087067e-01 1.043199e-01 9.769464e-02 8.889935e-02 7.838950e-02 6.688974e-02 5.519710e-02 4.399167e-02 3.378068e-02 2.493008e-02 1.766508e-02 1.203363e-02 7.906374e-03 5.033154e-03 3.120450e-03 1.893688e-03 1.130051e-03 6.656868e-04 3.883264e-04 2.248908e-04 1.295560e-04 7.436018e-05 4.257724e-05 2.434687e-05 1.391725e-05 7.959816e-06 4.559045e-06 2.617313e-06 1.507367e-06 8.715916e-07 5.062882e-07 2.954912e-07 1.732262e-07 1.018358e-07 5.983251e-08 3.491403e-08 1.999270e-08 1.097965e-08 5.480595e-09 2.099539e-09 0.000000e+00\n",
      "\n"
     ]
    }
   ],
   "source": [
    "file_name = \"Sim4ML3.dat\"\n",
    "main_data = []\n",
    "list_string = read_file(file_name)\n",
    "# last string is empty\n",
    "list_string.pop()\n",
    "print(list_string[-1])"
   ]
  },
  {
   "cell_type": "code",
   "execution_count": 22,
   "id": "d281174a",
   "metadata": {},
   "outputs": [],
   "source": [
    "for string in list_string:\n",
    "    data = np.fromstring(string, dtype=float, sep=' ')\n",
    "    # Removing the row index at the beggining as it's redundant\n",
    "    data = np.delete(data, 0)\n",
    "    resistance = data[:4]\n",
    "    depth = data[4:7]\n",
    "    signal_values = data[7:57]\n",
    "    data = np.array([signal_values,resistance, depth], dtype=object)\n",
    "    main_data.append(data)"
   ]
  },
  {
   "cell_type": "code",
   "execution_count": 23,
   "id": "9986bad6",
   "metadata": {},
   "outputs": [
    {
     "name": "stdout",
     "output_type": "stream",
     "text": [
      "[array([0.25, 1.  , 1.  , 1.  ]) array([10., 10., 10.])\n",
      " array([2.125948e-01, 2.111106e-01, 2.094886e-01, 2.075018e-01,\n",
      "       2.049597e-01, 2.017582e-01, 1.978272e-01, 1.929566e-01,\n",
      "       1.864486e-01, 1.770808e-01, 1.638220e-01, 1.466813e-01,\n",
      "       1.268408e-01, 1.060775e-01, 8.606436e-02, 6.796589e-02,\n",
      "       5.237569e-02, 3.944724e-02, 2.906555e-02, 2.097409e-02,\n",
      "       1.484668e-02, 1.033137e-02, 7.085160e-03, 4.800703e-03,\n",
      "       3.221439e-03, 2.145289e-03, 1.420263e-03, 9.360772e-04,\n",
      "       6.148936e-04, 4.029113e-04, 2.635270e-04, 1.721309e-04,\n",
      "       1.123215e-04, 7.323857e-05, 4.772538e-05, 3.108207e-05,\n",
      "       2.023007e-05, 1.315630e-05, 8.546292e-06, 5.542143e-06,\n",
      "       3.584537e-06, 2.308977e-06, 1.477696e-06, 9.360461e-07,\n",
      "       5.829944e-07, 3.529159e-07, 2.029737e-07, 1.052245e-07,\n",
      "       4.152752e-08, 0.000000e+00])]\n"
     ]
    }
   ],
   "source": [
    "print(main_data[0])"
   ]
  },
  {
   "cell_type": "code",
   "execution_count": null,
   "id": "7ccb6311",
   "metadata": {},
   "outputs": [],
   "source": []
  }
 ],
 "metadata": {
  "kernelspec": {
   "display_name": "Python 3 (ipykernel)",
   "language": "python",
   "name": "python3"
  },
  "language_info": {
   "codemirror_mode": {
    "name": "ipython",
    "version": 3
   },
   "file_extension": ".py",
   "mimetype": "text/x-python",
   "name": "python",
   "nbconvert_exporter": "python",
   "pygments_lexer": "ipython3",
   "version": "3.9.7"
  }
 },
 "nbformat": 4,
 "nbformat_minor": 5
}
